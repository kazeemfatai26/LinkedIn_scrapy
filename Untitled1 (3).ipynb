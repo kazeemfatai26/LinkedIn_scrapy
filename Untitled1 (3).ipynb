{
 "cells": [
  {
   "cell_type": "code",
   "execution_count": null,
   "id": "b36985e8",
   "metadata": {},
   "outputs": [],
   "source": [
    "#!pip install webdriver-manager\n",
    "\n",
    "from selenium import webdriver\n",
    "from webdriver_manager.chrome import ChromeDriverManager\n",
    "\n",
    "# Initialize the Chrome webdriver with the webdriver-manager\n",
    "driver = webdriver.Chrome(ChromeDriverManager().install())\n",
    "\n",
    "# Navigate to a webpage\n",
    "driver.get('https://www.twitter.com')\n",
    "\n",
    "# Close the webdriver\n",
    "#driver.quit()\n"
   ]
  },
  {
   "cell_type": "code",
   "execution_count": null,
   "id": "617d4cff",
   "metadata": {
    "scrolled": false
   },
   "outputs": [],
   "source": [
    " from linkedin_scraper import Person, actions\n",
    "# from selenium import webdriver\n",
    "# driver = webdriver.Chrome(\"C:/Users/fatkayd/Downloads/chromedriver_win32.exe\")\n",
    "\n",
    "email = \"linkedin email\"\n",
    "password = \"password\"\n",
    "actions.login(driver, email, password) # if email and password isnt given, it'll prompt in terminal\n",
    "\n",
    "import time\n",
    "time.sleep(5)\n"
   ]
  },
  {
   "cell_type": "code",
   "execution_count": null,
   "id": "70bbcc0c",
   "metadata": {},
   "outputs": [],
   "source": [
    "from selenium.webdriver.common.by import By\n",
    "from selenium.webdriver.common.keys import Keys"
   ]
  },
  {
   "cell_type": "code",
   "execution_count": null,
   "id": "ee87645e",
   "metadata": {},
   "outputs": [],
   "source": [
    "input_search = driver.find_element(By.CLASS_NAME,'search-global-typeahead__input')\n",
    "input_search.send_keys('director at microsoft, San Francisco',Keys.ENTER)"
   ]
  },
  {
   "cell_type": "code",
   "execution_count": null,
   "id": "62e23c46",
   "metadata": {},
   "outputs": [],
   "source": [
    "people_button = driver.find_element(By.XPATH,'//button[@class=\"search-reusables__primary-filter\"]')\n",
    "people_button.click()"
   ]
  },
  {
   "cell_type": "code",
   "execution_count": null,
   "id": "9b2b8b09",
   "metadata": {},
   "outputs": [],
   "source": [
    "people_button = driver.find_element(By.CLASS_NAME,'artdeco-pill artdeco-pill--slate artdeco-pill--choice artdeco-pill--2 search-reusables__filter-pill-button\\search-reusables__filter-pill-button')\n",
    "people_button.click()"
   ]
  },
  {
   "cell_type": "code",
   "execution_count": null,
   "id": "03df40bf",
   "metadata": {},
   "outputs": [],
   "source": [
    "input_search"
   ]
  },
  {
   "cell_type": "code",
   "execution_count": null,
   "id": "9513329c",
   "metadata": {},
   "outputs": [],
   "source": []
  }
 ],
 "metadata": {
  "kernelspec": {
   "display_name": "Python 3 (ipykernel)",
   "language": "python",
   "name": "python3"
  },
  "language_info": {
   "codemirror_mode": {
    "name": "ipython",
    "version": 3
   },
   "file_extension": ".py",
   "mimetype": "text/x-python",
   "name": "python",
   "nbconvert_exporter": "python",
   "pygments_lexer": "ipython3",
   "version": "3.9.12"
  }
 },
 "nbformat": 4,
 "nbformat_minor": 5
}
